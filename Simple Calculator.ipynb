{
 "cells": [
  {
   "cell_type": "code",
   "execution_count": 31,
   "id": "50918e26",
   "metadata": {},
   "outputs": [
    {
     "name": "stdout",
     "output_type": "stream",
     "text": [
      "1. Addition\n",
      "2. Subtraction\n",
      "3. Multiplication\n",
      "4. Division\n"
     ]
    }
   ],
   "source": [
    "print(\"1. Addition\\n2. Subtraction\\n3. Multiplication\\n4. Division\")"
   ]
  },
  {
   "cell_type": "code",
   "execution_count": 1,
   "id": "12bd2c76",
   "metadata": {},
   "outputs": [],
   "source": [
    "import pandas as pd"
   ]
  },
  {
   "cell_type": "code",
   "execution_count": 7,
   "id": "a70cf8b7",
   "metadata": {},
   "outputs": [],
   "source": [
    "l = ['add','subtract','multiply','divide','e']"
   ]
  },
  {
   "cell_type": "code",
   "execution_count": 19,
   "id": "8b1b2fbf",
   "metadata": {},
   "outputs": [],
   "source": [
    "ser = pd.DataFrame(l)"
   ]
  },
  {
   "cell_type": "code",
   "execution_count": 20,
   "id": "32290ae8",
   "metadata": {},
   "outputs": [
    {
     "data": {
      "text/html": [
       "<div>\n",
       "<style scoped>\n",
       "    .dataframe tbody tr th:only-of-type {\n",
       "        vertical-align: middle;\n",
       "    }\n",
       "\n",
       "    .dataframe tbody tr th {\n",
       "        vertical-align: top;\n",
       "    }\n",
       "\n",
       "    .dataframe thead th {\n",
       "        text-align: right;\n",
       "    }\n",
       "</style>\n",
       "<table border=\"1\" class=\"dataframe\">\n",
       "  <thead>\n",
       "    <tr style=\"text-align: right;\">\n",
       "      <th></th>\n",
       "      <th>0</th>\n",
       "    </tr>\n",
       "  </thead>\n",
       "  <tbody>\n",
       "    <tr>\n",
       "      <th>0</th>\n",
       "      <td>add</td>\n",
       "    </tr>\n",
       "    <tr>\n",
       "      <th>1</th>\n",
       "      <td>subtract</td>\n",
       "    </tr>\n",
       "    <tr>\n",
       "      <th>2</th>\n",
       "      <td>multiply</td>\n",
       "    </tr>\n",
       "    <tr>\n",
       "      <th>3</th>\n",
       "      <td>divide</td>\n",
       "    </tr>\n",
       "    <tr>\n",
       "      <th>4</th>\n",
       "      <td>e</td>\n",
       "    </tr>\n",
       "  </tbody>\n",
       "</table>\n",
       "</div>"
      ],
      "text/plain": [
       "          0\n",
       "0       add\n",
       "1  subtract\n",
       "2  multiply\n",
       "3    divide\n",
       "4         e"
      ]
     },
     "execution_count": 20,
     "metadata": {},
     "output_type": "execute_result"
    }
   ],
   "source": [
    "ser"
   ]
  },
  {
   "cell_type": "code",
   "execution_count": null,
   "id": "0c6051bf",
   "metadata": {},
   "outputs": [],
   "source": []
  },
  {
   "cell_type": "code",
   "execution_count": 18,
   "id": "5f91284a",
   "metadata": {},
   "outputs": [
    {
     "name": "stdout",
     "output_type": "stream",
     "text": [
      "Enter your choice\n",
      "21\n",
      "Error! Wrong Input! Please enter from the above options!\n",
      "----------------------------------------\n"
     ]
    }
   ],
   "source": [
    "import math\n",
    "\n",
    "x = input(\"Enter your choice\\n\")\n",
    "if(float(x) == 1) or (float(x) == 2) or (float(x) == 3) or (float(x) == 4) or (float(x) == 5):\n",
    "    a = input(\"Enter Number 1:    \")\n",
    "    b = input(\"Enter Number 2:    \")\n",
    "elif(float(x) == 6) or (float(x) == 7) or (float(x) == 8):\n",
    "    c = input(\"Enter Number  :    \")\n",
    "    \n",
    "else:\n",
    "    print('Error! Wrong Input! Please enter from the above options!')\n",
    "print(\"-\"*40)\n",
    "\n",
    "if(int(x)== 1):\n",
    "    s = float(a) + float(b)\n",
    "    print(\"Sum of\",a,\"and\",b,\"is\",s)\n",
    "elif(int(x)== 2):\n",
    "    d = float(a) - float(b)\n",
    "    print(\"Difference of\",a,\"and\",b,\"is\",d)\n",
    "elif(int(x)== 3):\n",
    "    p = float(a) * float(b)\n",
    "    print(\"Product of\",a,\"and\",b,\"is\",p)\n",
    "elif(int(x)== 4):\n",
    "    div = float(a) / float(b)\n",
    "    print(\"Division of\",a,\"and\",b,\"is\",div)\n",
    "elif(int(x)== 5):\n",
    "    rem = float(a) % float(b)\n",
    "    q = float(a) // float(b)\n",
    "    print(\"Quotient when\",a,\"is divided by\",b,\"is\",int(q))\n",
    "    print(\"Remainder when\",a,\"is divided by\",b,\"is\",int(rem))\n",
    "elif(int(x)== 6):\n",
    "    sq = float(c) ** 2\n",
    "    print(\"Square of\",c,\"is\",sq)\n",
    "elif(int(x)== 7):\n",
    "    cu = float(c) ** 3\n",
    "    print(\"Cube of\",c,\"is\",cu)\n",
    "elif(int(x)== 8):\n",
    "    sqrt = math.sqrt(float(c))\n",
    "    print(\"Square Root of\",c,\"is\",sqrt)"
   ]
  },
  {
   "cell_type": "code",
   "execution_count": null,
   "id": "84871b0d",
   "metadata": {},
   "outputs": [],
   "source": []
  }
 ],
 "metadata": {
  "kernelspec": {
   "display_name": "Python 3 (ipykernel)",
   "language": "python",
   "name": "python3"
  },
  "language_info": {
   "codemirror_mode": {
    "name": "ipython",
    "version": 3
   },
   "file_extension": ".py",
   "mimetype": "text/x-python",
   "name": "python",
   "nbconvert_exporter": "python",
   "pygments_lexer": "ipython3",
   "version": "3.10.9"
  }
 },
 "nbformat": 4,
 "nbformat_minor": 5
}
