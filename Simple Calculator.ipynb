{
 "cells": [
  {
   "cell_type": "code",
   "execution_count": 4,
   "id": "5f91284a",
   "metadata": {},
   "outputs": [
    {
     "name": "stdout",
     "output_type": "stream",
     "text": [
      "Select an operation:\n",
      "1. Addition\n",
      "2. Subtraction\n",
      "3. Multiplication\n",
      "4. Division\n",
      "5. Quotient and Remainder\n",
      "6. Square\n",
      "7. Cube\n",
      "8. Square Root\n",
      "Enter your choice\n",
      "7\n",
      "Enter Number  :    5\n",
      "----------------------------------------\n",
      "Cube of 5 is 125.0\n"
     ]
    }
   ],
   "source": [
    "print(\"Select an operation:\")\n",
    "print(\"1. Addition\")\n",
    "print(\"2. Subtraction\")\n",
    "print(\"3. Multiplication\")\n",
    "print(\"4. Division\")\n",
    "print(\"5. Quotient and Remainder\")\n",
    "print(\"6. Square\")\n",
    "print(\"7. Cube\")      \n",
    "print(\"8. Square Root\")\n",
    "\n",
    "import math\n",
    "\n",
    "\n",
    "x = input(\"Enter your choice\\n\")\n",
    "if(float(x) == 1) or (float(x) == 2) or (float(x) == 3) or (float(x) == 4) or (float(x) == 5):\n",
    "    a = input(\"Enter Number 1:    \")\n",
    "    b = input(\"Enter Number 2:    \")\n",
    "elif(float(x) == 6) or (float(x) == 7) or (float(x) == 8):\n",
    "    c = input(\"Enter Number  :    \")\n",
    "    \n",
    "else:\n",
    "    print('Error! Wrong Input! Please enter from the above options!')\n",
    "print(\"-\"*40)\n",
    "\n",
    "if(int(x)== 1):\n",
    "    s = float(a) + float(b)\n",
    "    print(\"Sum of\",a,\"and\",b,\"is\",s)\n",
    "elif(int(x)== 2):\n",
    "    d = float(a) - float(b)\n",
    "    print(\"Difference of\",a,\"and\",b,\"is\",d)\n",
    "elif(int(x)== 3):\n",
    "    p = float(a) * float(b)\n",
    "    print(\"Product of\",a,\"and\",b,\"is\",p)\n",
    "elif(int(x)== 4):\n",
    "    div = float(a) / float(b)\n",
    "    print(\"Division of\",a,\"and\",b,\"is\",div)\n",
    "elif(int(x)== 5):\n",
    "    rem = float(a) % float(b)\n",
    "    q = float(a) // float(b)\n",
    "    print(\"Quotient when\",a,\"is divided by\",b,\"is\",int(q))\n",
    "    print(\"Remainder when\",a,\"is divided by\",b,\"is\",int(rem))\n",
    "elif(int(x)== 6):\n",
    "    sq = float(c) ** 2\n",
    "    print(\"Square of\",c,\"is\",sq)\n",
    "elif(int(x)== 7):\n",
    "    cu = float(c) ** 3\n",
    "    print(\"Cube of\",c,\"is\",cu)\n",
    "elif(int(x)== 8):\n",
    "    sqrt = math.sqrt(float(c))\n",
    "    print(\"Square Root of\",c,\"is\",sqrt)"
   ]
  }
 ],
 "metadata": {
  "kernelspec": {
   "display_name": "Python 3 (ipykernel)",
   "language": "python",
   "name": "python3"
  },
  "language_info": {
   "codemirror_mode": {
    "name": "ipython",
    "version": 3
   },
   "file_extension": ".py",
   "mimetype": "text/x-python",
   "name": "python",
   "nbconvert_exporter": "python",
   "pygments_lexer": "ipython3",
   "version": "3.10.9"
  }
 },
 "nbformat": 4,
 "nbformat_minor": 5
}
